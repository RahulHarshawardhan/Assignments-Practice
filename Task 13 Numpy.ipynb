{
 "cells": [
  {
   "cell_type": "code",
   "execution_count": 2,
   "id": "657ab2df",
   "metadata": {},
   "outputs": [],
   "source": [
    "import numpy as np\n"
   ]
  },
  {
   "cell_type": "code",
   "execution_count": 29,
   "id": "f672895a",
   "metadata": {},
   "outputs": [
    {
     "data": {
      "text/plain": [
       "array([nan, nan, nan, nan,  1., nan, nan, nan, nan, nan])"
      ]
     },
     "execution_count": 29,
     "metadata": {},
     "output_type": "execute_result"
    }
   ],
   "source": [
    "#Q-1 Create a null vector of size 10 but the fifth value which is 1.\n",
    "a = np.nan * np.empty(10)\n",
    "a[4]=1\n",
    "a"
   ]
  },
  {
   "cell_type": "code",
   "execution_count": 3,
   "id": "c9930d16",
   "metadata": {},
   "outputs": [
    {
     "name": "stdout",
     "output_type": "stream",
     "text": [
      "Enter the shape a:2\n",
      "enter the shape b:3\n"
     ]
    },
    {
     "data": {
      "text/plain": [
       "array([[0.48904145, 0.50991342, 0.52036939],\n",
       "       [0.4865929 , 0.4779483 , 0.08043921]])"
      ]
     },
     "execution_count": 3,
     "metadata": {},
     "output_type": "execute_result"
    }
   ],
   "source": [
    "#Q-2 Ask user to input two numbers a, b. Write a program to generate a random array of shape (a, b) and print the\n",
    "#array and avg of the array.\n",
    "\n",
    "a= int(input(\"Enter the shape a:\"))\n",
    "b = int(input(\"enter the shape b:\"))\n",
    "\n",
    "np.random.random((a,b))"
   ]
  },
  {
   "cell_type": "code",
   "execution_count": 10,
   "id": "4700c18a",
   "metadata": {},
   "outputs": [
    {
     "data": {
      "text/plain": [
       "array([[1., 1., 1., 1.],\n",
       "       [1., 0., 0., 1.],\n",
       "       [1., 0., 0., 1.],\n",
       "       [1., 1., 1., 1.]])"
      ]
     },
     "execution_count": 10,
     "metadata": {},
     "output_type": "execute_result"
    }
   ],
   "source": [
    "#Q-3Write a function to create a 2d array with 1 on the border and 0 inside. Take 2-D array shape as (a,b) as \n",
    "#parameter to function.\n",
    "z = np.ones((4,4))\n",
    "z[1:-1,1:-1]=0\n",
    "z"
   ]
  },
  {
   "cell_type": "code",
   "execution_count": 18,
   "id": "46e425b0",
   "metadata": {},
   "outputs": [
    {
     "data": {
      "text/plain": [
       "array([0. , 0.1, 0.2, 0.3, 0.4, 0.5, 0.6, 0.7, 0.8, 0.9])"
      ]
     },
     "execution_count": 18,
     "metadata": {},
     "output_type": "execute_result"
    }
   ],
   "source": [
    "#Q-4 Create a vector of size 10 with values ranging from 0 to 1, both excluded.\n",
    "Z= np.linspace(0,1,10, endpoint=False)\n",
    "Z"
   ]
  },
  {
   "cell_type": "code",
   "execution_count": 24,
   "id": "b165b1fd",
   "metadata": {},
   "outputs": [],
   "source": [
    "#Q-5 Can you create a identity mattrix of shape (3,4). If yes write code for it.\n",
    "# Ans No."
   ]
  },
  {
   "cell_type": "code",
   "execution_count": 27,
   "id": "25e358ea",
   "metadata": {},
   "outputs": [
    {
     "data": {
      "text/plain": [
       "array([[0.97491544, 0.72940775, 0.5312659 , 0.18413699, 0.04447165],\n",
       "       [0.9823567 , 0.30735954, 0.14129054, 0.31735624, 0.96603429],\n",
       "       [0.13867379, 0.34622528, 0.69639621, 0.06395412, 0.91421191],\n",
       "       [0.07330528, 0.80553398, 0.92908083, 0.76195388, 0.12588157],\n",
       "       [0.65741829, 0.91571061, 0.92318867, 0.59835285, 0.46062737]])"
      ]
     },
     "execution_count": 27,
     "metadata": {},
     "output_type": "execute_result"
    }
   ],
   "source": [
    "#Q-6: Create a 5x5 matrix with row values ranging from 0 to 4.\n",
    "Z = np.random.rand(5,5)\n",
    "Z"
   ]
  },
  {
   "cell_type": "code",
   "execution_count": 43,
   "id": "f3693978",
   "metadata": {},
   "outputs": [
    {
     "name": "stdout",
     "output_type": "stream",
     "text": [
      "[[53 50]\n",
      " [21 22]\n",
      " [53 62]\n",
      " [62 99]\n",
      " [54 20]\n",
      " [18 70]\n",
      " [88 78]\n",
      " [ 1 81]\n",
      " [62 37]\n",
      " [58  9]]\n",
      "\n",
      "[2 3]\n"
     ]
    },
    {
     "data": {
      "text/plain": [
       "array([ 69,  26,  77, 113,  54,  68, 114,  78,  68,  56])"
      ]
     },
     "execution_count": 43,
     "metadata": {},
     "output_type": "execute_result"
    }
   ],
   "source": [
    "#Q-7: Consider a random integer (in range 1 to 100) vector with shape (10,2) representing coordinates,\n",
    "#and coordinates of a point as array is given. Create an array of distance of each point in the random vectros \n",
    "#from the given point. Distance array should be interger type.\n",
    "\n",
    "a = np.random.randint(1,100, size=20).reshape((10,2))\n",
    "p = np.array([2,3]) \n",
    "\n",
    "print(a)\n",
    "print()\n",
    "print(p)\n",
    "np.sqrt(np.sum((a-p)**2,axis=1)).astype(int)"
   ]
  },
  {
   "cell_type": "code",
   "execution_count": 48,
   "id": "e0eea48c",
   "metadata": {},
   "outputs": [
    {
     "data": {
      "text/plain": [
       "(1, 5, 4)"
      ]
     },
     "execution_count": 48,
     "metadata": {},
     "output_type": "execute_result"
    }
   ],
   "source": [
    "#Q-8: Consider a (6,7,8) shape array, what is the index (x,y,z) of the 100th element?\n",
    "\n",
    "np.unravel_index(100,(6,7,8))"
   ]
  },
  {
   "cell_type": "code",
   "execution_count": 50,
   "id": "715e7cd7",
   "metadata": {},
   "outputs": [
    {
     "data": {
      "text/plain": [
       "array([[[0., 0., 0., 0., 0., 0., 0., 0.],\n",
       "        [0., 0., 0., 0., 0., 0., 0., 0.],\n",
       "        [0., 0., 0., 0., 0., 0., 0., 0.],\n",
       "        [0., 0., 0., 0., 0., 0., 0., 0.],\n",
       "        [0., 0., 0., 0., 0., 0., 0., 0.],\n",
       "        [0., 0., 0., 0., 0., 0., 0., 0.],\n",
       "        [0., 0., 0., 0., 0., 0., 0., 0.]],\n",
       "\n",
       "       [[0., 0., 0., 0., 0., 0., 0., 0.],\n",
       "        [0., 0., 0., 0., 0., 0., 0., 0.],\n",
       "        [0., 0., 0., 0., 0., 0., 0., 0.],\n",
       "        [0., 0., 0., 0., 0., 0., 0., 0.],\n",
       "        [0., 0., 0., 0., 0., 0., 0., 0.],\n",
       "        [0., 0., 0., 0., 0., 0., 0., 0.],\n",
       "        [0., 0., 0., 0., 0., 0., 0., 0.]],\n",
       "\n",
       "       [[0., 0., 0., 0., 0., 0., 0., 0.],\n",
       "        [0., 0., 0., 0., 0., 0., 0., 0.],\n",
       "        [0., 0., 0., 0., 0., 0., 0., 0.],\n",
       "        [0., 0., 0., 0., 0., 0., 0., 0.],\n",
       "        [0., 0., 0., 0., 0., 0., 0., 0.],\n",
       "        [0., 0., 0., 0., 0., 0., 0., 0.],\n",
       "        [0., 0., 0., 0., 0., 0., 0., 0.]],\n",
       "\n",
       "       [[0., 0., 0., 0., 0., 0., 0., 0.],\n",
       "        [0., 0., 0., 0., 0., 0., 0., 0.],\n",
       "        [0., 0., 0., 0., 0., 0., 0., 0.],\n",
       "        [0., 0., 0., 0., 0., 0., 0., 0.],\n",
       "        [0., 0., 0., 0., 0., 0., 0., 0.],\n",
       "        [0., 0., 0., 0., 0., 0., 0., 0.],\n",
       "        [0., 0., 0., 0., 0., 0., 0., 0.]],\n",
       "\n",
       "       [[0., 0., 0., 0., 0., 0., 0., 0.],\n",
       "        [0., 0., 0., 0., 0., 0., 0., 0.],\n",
       "        [0., 0., 0., 0., 0., 0., 0., 0.],\n",
       "        [0., 0., 0., 0., 0., 0., 0., 0.],\n",
       "        [0., 0., 0., 0., 0., 0., 0., 0.],\n",
       "        [0., 0., 0., 0., 0., 0., 0., 0.],\n",
       "        [0., 0., 0., 0., 0., 0., 0., 0.]],\n",
       "\n",
       "       [[0., 0., 0., 0., 0., 0., 0., 0.],\n",
       "        [0., 0., 0., 0., 0., 0., 0., 0.],\n",
       "        [0., 0., 0., 0., 0., 0., 0., 0.],\n",
       "        [0., 0., 0., 0., 0., 0., 0., 0.],\n",
       "        [0., 0., 0., 0., 0., 0., 0., 0.],\n",
       "        [0., 0., 0., 0., 0., 0., 0., 0.],\n",
       "        [0., 0., 0., 0., 0., 0., 0., 0.]]])"
      ]
     },
     "execution_count": 50,
     "metadata": {},
     "output_type": "execute_result"
    }
   ],
   "source": [
    "np.zeros((6,7,8))"
   ]
  },
  {
   "cell_type": "code",
   "execution_count": 1,
   "id": "5c8ceb48",
   "metadata": {},
   "outputs": [],
   "source": [
    "#Q-9: Arrays\n",
    "#You are given a space separated list of numbers. Your task is to print a reversed NumPy array with the element type float."
   ]
  },
  {
   "cell_type": "code",
   "execution_count": 10,
   "id": "0fcd4f44",
   "metadata": {},
   "outputs": [
    {
     "name": "stdout",
     "output_type": "stream",
     "text": [
      "2 4 5 6 7\n"
     ]
    },
    {
     "data": {
      "text/plain": [
       "array([7., 6., 5., 4., 2.], dtype=float32)"
      ]
     },
     "execution_count": 10,
     "metadata": {},
     "output_type": "execute_result"
    }
   ],
   "source": [
    "a = input().strip().split()\n",
    "np.array(a[::-1], dtype=np.float32)\n"
   ]
  },
  {
   "cell_type": "code",
   "execution_count": 11,
   "id": "97a913e0",
   "metadata": {},
   "outputs": [
    {
     "data": {
      "text/plain": [
       "0"
      ]
     },
     "execution_count": 11,
     "metadata": {},
     "output_type": "execute_result"
    }
   ],
   "source": [
    "#10 Elements count\n",
    "#Count the numbers of elements of a numpy array\n",
    "np.array([]).size"
   ]
  },
  {
   "cell_type": "code",
   "execution_count": 13,
   "id": "ce9c1c39",
   "metadata": {},
   "outputs": [
    {
     "data": {
      "text/plain": [
       "2"
      ]
     },
     "execution_count": 13,
     "metadata": {},
     "output_type": "execute_result"
    }
   ],
   "source": [
    "np.array([1,2]).size"
   ]
  },
  {
   "cell_type": "code",
   "execution_count": 14,
   "id": "3aaf4cf0",
   "metadata": {},
   "outputs": [
    {
     "data": {
      "text/plain": [
       "array([0.02364054, 0.06426166, 0.1746813 , 0.474833  , 0.02364054,\n",
       "       0.06426166, 0.1746813 ])"
      ]
     },
     "execution_count": 14,
     "metadata": {},
     "output_type": "execute_result"
    }
   ],
   "source": [
    "#Q-11: Softmax function\n",
    "#Create a Python function to calculate the Softmax of the given numpy 1D array. The function only accepts the numpy \n",
    "#1D array, otherwise raise error.\n",
    "\n",
    "a = [1.0, 2.0, 3.0, 4.0, 1.0, 2.0, 3.0]\n",
    "np.exp(a)/np.sum(np.exp(a))"
   ]
  },
  {
   "cell_type": "code",
   "execution_count": 23,
   "id": "e9574e5a",
   "metadata": {},
   "outputs": [
    {
     "data": {
      "text/plain": [
       "array([2.43733248e-01, 2.56112114e-22, 1.41628283e-17, 7.56266752e-01,\n",
       "       5.05514197e-22, 1.50974911e-22])"
      ]
     },
     "execution_count": 23,
     "metadata": {},
     "output_type": "execute_result"
    }
   ],
   "source": [
    "b = [86.03331084, 37.7285648,  48.64908087, 87.16563062, 38.40852563, 37.20006318]\n",
    "\n",
    "np.exp(b)/np.sum(np.exp(b))"
   ]
  },
  {
   "cell_type": "code",
   "execution_count": 37,
   "id": "bcc60966",
   "metadata": {},
   "outputs": [],
   "source": [
    "def softmax(arr):\n",
    "    if type(arr)!= np.ndarray:\n",
    "        raise TypeError(\"Requires Numpy Array\")\n",
    "    elif arr.ndim >1:\n",
    "            raise TypeError(\"Requires 1D Array\")\n",
    "    return np.exp(arr)/np.sum(np.exp(arr))"
   ]
  },
  {
   "cell_type": "code",
   "execution_count": 34,
   "id": "756b8744",
   "metadata": {},
   "outputs": [
    {
     "data": {
      "text/plain": [
       "array([[7.80134161e-05, 2.12062451e-04, 5.76445508e-04, 1.56694135e-03,\n",
       "        4.25938820e-03],\n",
       "       [1.15782175e-02, 3.14728583e-02, 8.55520989e-02, 2.32554716e-01,\n",
       "        6.32149258e-01]])"
      ]
     },
     "execution_count": 34,
     "metadata": {},
     "output_type": "execute_result"
    }
   ],
   "source": [
    "softmax(a)"
   ]
  },
  {
   "cell_type": "code",
   "execution_count": 26,
   "id": "bc75b61d",
   "metadata": {},
   "outputs": [],
   "source": [
    "#Q-12: Vertical stack\n",
    "#Write a python function that accepts infinite number of numpy arrays and do the vertical stack to them. \n",
    "#Then return that new array as result. The function only accepts the numpy array, otherwise raise error."
   ]
  },
  {
   "cell_type": "code",
   "execution_count": 46,
   "id": "2a15ec15",
   "metadata": {},
   "outputs": [],
   "source": [
    "def vstack(*args):\n",
    "    for i in args:\n",
    "        if type(i) != np.ndarray:\n",
    "            raise TypeError(\"Requires Numpy Array\")\n",
    "    return np.vstack(args)"
   ]
  },
  {
   "cell_type": "code",
   "execution_count": 47,
   "id": "48ca65c3",
   "metadata": {},
   "outputs": [],
   "source": [
    "a = np.arange(10).reshape(2,5)\n",
    "b = np.ones((2,5))\n",
    "c = np.random.random((2,5))"
   ]
  },
  {
   "cell_type": "code",
   "execution_count": 48,
   "id": "06765057",
   "metadata": {},
   "outputs": [
    {
     "data": {
      "text/plain": [
       "array([[0., 1., 2., 3., 4.],\n",
       "       [5., 6., 7., 8., 9.],\n",
       "       [1., 1., 1., 1., 1.],\n",
       "       [1., 1., 1., 1., 1.]])"
      ]
     },
     "execution_count": 48,
     "metadata": {},
     "output_type": "execute_result"
    }
   ],
   "source": [
    "vstack(a,b)"
   ]
  },
  {
   "cell_type": "code",
   "execution_count": 50,
   "id": "b3500fd4",
   "metadata": {},
   "outputs": [
    {
     "data": {
      "text/plain": [
       "array([[0.        , 1.        , 2.        , 3.        , 4.        ],\n",
       "       [5.        , 6.        , 7.        , 8.        , 9.        ],\n",
       "       [1.        , 1.        , 1.        , 1.        , 1.        ],\n",
       "       [1.        , 1.        , 1.        , 1.        , 1.        ],\n",
       "       [0.46134254, 0.66486186, 0.84319906, 0.36073188, 0.9736084 ],\n",
       "       [0.47607659, 0.33456835, 0.51826471, 0.97330249, 0.94545675]])"
      ]
     },
     "execution_count": 50,
     "metadata": {},
     "output_type": "execute_result"
    }
   ],
   "source": [
    "vstack(a,b,c)"
   ]
  },
  {
   "cell_type": "code",
   "execution_count": 51,
   "id": "1669e6ea",
   "metadata": {},
   "outputs": [],
   "source": [
    "d = np.repeat(1,10).reshape(2,5)"
   ]
  },
  {
   "cell_type": "code",
   "execution_count": 52,
   "id": "ece2340f",
   "metadata": {},
   "outputs": [
    {
     "data": {
      "text/plain": [
       "array([[1, 1, 1, 1, 1],\n",
       "       [1, 1, 1, 1, 1]])"
      ]
     },
     "execution_count": 52,
     "metadata": {},
     "output_type": "execute_result"
    }
   ],
   "source": [
    "d"
   ]
  },
  {
   "cell_type": "code",
   "execution_count": 53,
   "id": "3e284572",
   "metadata": {},
   "outputs": [],
   "source": [
    "#Q-13: Dates\n",
    "#Create a python function named date_array that accepts two dates as string format and returns a numpy array of dates\n",
    "#between those 2 dates. The function only accept 2 strings, otherwise raise error. The date format should be like this \n",
    "#only: 2022-12-6. The end date should be included and for simplicity, choose dates from a same year"
   ]
  },
  {
   "cell_type": "code",
   "execution_count": 61,
   "id": "2cc721ac",
   "metadata": {},
   "outputs": [
    {
     "ename": "NameError",
     "evalue": "name 'date_array' is not defined",
     "output_type": "error",
     "traceback": [
      "\u001b[1;31m---------------------------------------------------------------------------\u001b[0m",
      "\u001b[1;31mNameError\u001b[0m                                 Traceback (most recent call last)",
      "\u001b[1;32m<ipython-input-61-f486e33ac341>\u001b[0m in \u001b[0;36m<module>\u001b[1;34m\u001b[0m\n\u001b[1;32m----> 1\u001b[1;33m \u001b[0ma\u001b[0m \u001b[1;33m=\u001b[0m\u001b[0mdate_array\u001b[0m\u001b[1;33m(\u001b[0m\u001b[0mstart\u001b[0m\u001b[1;33m=\u001b[0m\u001b[1;34m'2020-09-15'\u001b[0m\u001b[1;33m,\u001b[0m \u001b[0mend\u001b[0m \u001b[1;33m=\u001b[0m \u001b[1;34m'2020-09-25'\u001b[0m\u001b[1;33m)\u001b[0m\u001b[1;33m\u001b[0m\u001b[1;33m\u001b[0m\u001b[0m\n\u001b[0m\u001b[0;32m      2\u001b[0m \u001b[0mnp\u001b[0m\u001b[1;33m.\u001b[0m\u001b[0mdatetime64\u001b[0m\u001b[1;33m(\u001b[0m\u001b[0ma\u001b[0m\u001b[1;33m)\u001b[0m\u001b[1;33m\u001b[0m\u001b[1;33m\u001b[0m\u001b[0m\n",
      "\u001b[1;31mNameError\u001b[0m: name 'date_array' is not defined"
     ]
    }
   ],
   "source": [
    "a =date_array(start='2020-09-15', end = '2020-09-25')\n",
    "\n"
   ]
  },
  {
   "cell_type": "code",
   "execution_count": 63,
   "id": "d91cb2b3",
   "metadata": {},
   "outputs": [],
   "source": [
    "#Q-14: Subtract the mean of each row from a matrix.\n",
    "\n",
    "a = np.arange(10).reshape(2,5)"
   ]
  },
  {
   "cell_type": "code",
   "execution_count": 64,
   "id": "4923eb60",
   "metadata": {},
   "outputs": [
    {
     "data": {
      "text/plain": [
       "array([[0, 1, 2, 3, 4],\n",
       "       [5, 6, 7, 8, 9]])"
      ]
     },
     "execution_count": 64,
     "metadata": {},
     "output_type": "execute_result"
    }
   ],
   "source": [
    "a"
   ]
  },
  {
   "cell_type": "code",
   "execution_count": 72,
   "id": "d92575fb",
   "metadata": {},
   "outputs": [],
   "source": [
    "b = np.mean(a, axis=1, keepdims=True)"
   ]
  },
  {
   "cell_type": "code",
   "execution_count": 73,
   "id": "9c3fb929",
   "metadata": {},
   "outputs": [
    {
     "data": {
      "text/plain": [
       "array([[2.],\n",
       "       [7.]])"
      ]
     },
     "execution_count": 73,
     "metadata": {},
     "output_type": "execute_result"
    }
   ],
   "source": [
    "b"
   ]
  },
  {
   "cell_type": "code",
   "execution_count": 74,
   "id": "c41eaa6c",
   "metadata": {},
   "outputs": [
    {
     "data": {
      "text/plain": [
       "array([[-2., -1.,  0.,  1.,  2.],\n",
       "       [-2., -1.,  0.,  1.,  2.]])"
      ]
     },
     "execution_count": 74,
     "metadata": {},
     "output_type": "execute_result"
    }
   ],
   "source": [
    "a-b"
   ]
  },
  {
   "cell_type": "code",
   "execution_count": 76,
   "id": "512a1ce5",
   "metadata": {},
   "outputs": [],
   "source": [
    "#-Q15: Swap column-1 of array with column-2 in the array.\n",
    "a = np.arange(9).reshape(3,3)"
   ]
  },
  {
   "cell_type": "code",
   "execution_count": 77,
   "id": "e9e58c3a",
   "metadata": {},
   "outputs": [
    {
     "data": {
      "text/plain": [
       "array([[0, 1, 2],\n",
       "       [3, 4, 5],\n",
       "       [6, 7, 8]])"
      ]
     },
     "execution_count": 77,
     "metadata": {},
     "output_type": "execute_result"
    }
   ],
   "source": [
    "a"
   ]
  },
  {
   "cell_type": "code",
   "execution_count": 81,
   "id": "f83489f2",
   "metadata": {},
   "outputs": [
    {
     "data": {
      "text/plain": [
       "array([[0, 2, 1],\n",
       "       [3, 5, 4],\n",
       "       [6, 8, 7]])"
      ]
     },
     "execution_count": 81,
     "metadata": {},
     "output_type": "execute_result"
    }
   ],
   "source": [
    "a[:,[0,2,1]]"
   ]
  },
  {
   "cell_type": "code",
   "execution_count": 86,
   "id": "d3363039",
   "metadata": {},
   "outputs": [],
   "source": [
    "#Q-16: Replace odd elements in arrays with -1.\n",
    "a = np.arange(10) #Example of boolean indexing."
   ]
  },
  {
   "cell_type": "code",
   "execution_count": 92,
   "id": "81cc13fb",
   "metadata": {},
   "outputs": [],
   "source": [
    "a[a%2==1] = -1"
   ]
  },
  {
   "cell_type": "code",
   "execution_count": 93,
   "id": "c62c5bd4",
   "metadata": {},
   "outputs": [
    {
     "data": {
      "text/plain": [
       "array([ 0, -1,  2, -1,  4, -1,  6, -1,  8, -1])"
      ]
     },
     "execution_count": 93,
     "metadata": {},
     "output_type": "execute_result"
    }
   ],
   "source": [
    "a"
   ]
  },
  {
   "cell_type": "code",
   "execution_count": 134,
   "id": "237d2e3c",
   "metadata": {},
   "outputs": [],
   "source": [
    "#Q-17: Given two arrays of same shape make an array of max out of two arrays. (Numpy way)\n",
    "a=np.array([6,3,1,5,8])\n",
    "b=np.array([3,2,1,7,2])"
   ]
  },
  {
   "cell_type": "code",
   "execution_count": 132,
   "id": "cdc6cbbf",
   "metadata": {},
   "outputs": [],
   "source": [
    "a[b>a] = b[a<b]"
   ]
  },
  {
   "cell_type": "code",
   "execution_count": 133,
   "id": "7054b603",
   "metadata": {},
   "outputs": [
    {
     "data": {
      "text/plain": [
       "array([6, 3, 1, 7, 8])"
      ]
     },
     "execution_count": 133,
     "metadata": {},
     "output_type": "execute_result"
    }
   ],
   "source": [
    "a"
   ]
  },
  {
   "cell_type": "code",
   "execution_count": 135,
   "id": "efa950b2",
   "metadata": {},
   "outputs": [
    {
     "data": {
      "text/plain": [
       "array([False, False, False,  True, False])"
      ]
     },
     "execution_count": 135,
     "metadata": {},
     "output_type": "execute_result"
    }
   ],
   "source": [
    "b>a"
   ]
  },
  {
   "cell_type": "code",
   "execution_count": 136,
   "id": "31e369fa",
   "metadata": {},
   "outputs": [
    {
     "data": {
      "text/plain": [
       "array([ True,  True, False, False,  True])"
      ]
     },
     "execution_count": 136,
     "metadata": {},
     "output_type": "execute_result"
    }
   ],
   "source": [
    "a>b"
   ]
  },
  {
   "cell_type": "code",
   "execution_count": 138,
   "id": "4dbde9d4",
   "metadata": {},
   "outputs": [
    {
     "data": {
      "text/plain": [
       "array([6, 3, 1, 5, 8])"
      ]
     },
     "execution_count": 138,
     "metadata": {},
     "output_type": "execute_result"
    }
   ],
   "source": [
    "a"
   ]
  },
  {
   "cell_type": "code",
   "execution_count": 139,
   "id": "1677f544",
   "metadata": {},
   "outputs": [],
   "source": [
    "#Q-18 Answer below asked questions on given array:\n",
    "#Fetch Every alternate column of the array\n",
    "#Normalise the given array"
   ]
  },
  {
   "cell_type": "code",
   "execution_count": 140,
   "id": "208ea562",
   "metadata": {},
   "outputs": [],
   "source": [
    "arr1=np.random.randint(low=1, high=10000, size=40).reshape(8,5)"
   ]
  },
  {
   "cell_type": "code",
   "execution_count": 141,
   "id": "afc5b35d",
   "metadata": {},
   "outputs": [
    {
     "data": {
      "text/plain": [
       "array([[8260, 1174, 4868, 5686, 1295],\n",
       "       [8044, 8577, 7579, 4577,  155],\n",
       "       [7910, 6048, 1403, 4854, 5838],\n",
       "       [2533, 7289, 7489, 1655, 8996],\n",
       "       [ 633, 3772, 7318, 4174, 7963],\n",
       "       [2684, 1758, 7602, 5264, 8824],\n",
       "       [8068, 4567, 1745,  249, 5184],\n",
       "       [4137, 7457, 9600,  618, 5602]])"
      ]
     },
     "execution_count": 141,
     "metadata": {},
     "output_type": "execute_result"
    }
   ],
   "source": [
    "arr1"
   ]
  },
  {
   "cell_type": "code",
   "execution_count": 143,
   "id": "921838a3",
   "metadata": {},
   "outputs": [
    {
     "data": {
      "text/plain": [
       "array([[8260, 4868, 1295],\n",
       "       [8044, 7579,  155],\n",
       "       [7910, 1403, 5838],\n",
       "       [2533, 7489, 8996],\n",
       "       [ 633, 7318, 7963],\n",
       "       [2684, 7602, 8824],\n",
       "       [8068, 1745, 5184],\n",
       "       [4137, 9600, 5602]])"
      ]
     },
     "execution_count": 143,
     "metadata": {},
     "output_type": "execute_result"
    }
   ],
   "source": [
    "arr1[:,::2]"
   ]
  },
  {
   "cell_type": "code",
   "execution_count": 146,
   "id": "7981aa57",
   "metadata": {},
   "outputs": [
    {
     "data": {
      "text/plain": [
       "array([[0.85812599, 0.10788777, 0.49899418, 0.58560085, 0.12069878],\n",
       "       [0.83525675, 0.89168872, 0.78602435, 0.46818422, 0.        ],\n",
       "       [0.82106935, 0.623928  , 0.1321334 , 0.49751191, 0.60169402],\n",
       "       [0.25177343, 0.75532028, 0.7764955 , 0.15881419, 0.93605082],\n",
       "       [0.05060879, 0.38295394, 0.75839068, 0.42551615, 0.82668078],\n",
       "       [0.26776072, 0.16971943, 0.7884595 , 0.54092112, 0.91784013],\n",
       "       [0.83779778, 0.46712546, 0.16834304, 0.00995236, 0.53245103],\n",
       "       [0.42159873, 0.77310746, 1.        , 0.04902065, 0.57670725]])"
      ]
     },
     "execution_count": 146,
     "metadata": {},
     "output_type": "execute_result"
    }
   ],
   "source": [
    "(arr1-arr1.min())/(arr1.max()-arr1.min())"
   ]
  },
  {
   "cell_type": "code",
   "execution_count": 161,
   "id": "fa031fac",
   "metadata": {},
   "outputs": [
    {
     "data": {
      "text/plain": [
       "34"
      ]
     },
     "execution_count": 161,
     "metadata": {},
     "output_type": "execute_result"
    }
   ],
   "source": [
    "#Q-19: Write a function which will accept 2 arguments.\n",
    "#First: A 1D numpy array arr\n",
    "\n",
    "#Second: An integer n {Please make sure n<=len(arr)}\n",
    "\n",
    "#Output: The output should be the nth largest item out of the array\n",
    "\n",
    "def n_lar_number(arr,n):\n",
    "    if n > len(arr):\n",
    "        raise IndexErrorError(\" n should be less than equal to len(arr)\")\n",
    "    arr.sort()\n",
    "    return arr[-n]\n",
    "n_lar_number(np.array([12,34,40,7,1,0]),2)\n",
    "    "
   ]
  },
  {
   "cell_type": "code",
   "execution_count": 162,
   "id": "4c494bdb",
   "metadata": {},
   "outputs": [],
   "source": [
    "#Q-20: Create the following pattern without hardcoding. Use only numpy functions and the below input array a."
   ]
  },
  {
   "cell_type": "code",
   "execution_count": 155,
   "id": "34a07d44",
   "metadata": {},
   "outputs": [],
   "source": [
    "# Input: a = np.array([1,2,3])\n",
    "# Output: array([1, 1, 1, 2, 2, 2, 3, 3, 3, 1, 2, 3, 1, 2, 3, 1, 2, 3])\n"
   ]
  },
  {
   "cell_type": "code",
   "execution_count": 168,
   "id": "2adb3e30",
   "metadata": {},
   "outputs": [
    {
     "data": {
      "text/plain": [
       "array([1, 2, 3, 1, 2, 3, 1, 2, 3])"
      ]
     },
     "execution_count": 168,
     "metadata": {},
     "output_type": "execute_result"
    }
   ],
   "source": [
    "a = np.array([1,2,3])\n",
    "np.repeat(a, 3)\n",
    "np.tile(a,3)"
   ]
  },
  {
   "cell_type": "code",
   "execution_count": 169,
   "id": "f0fc2213",
   "metadata": {},
   "outputs": [
    {
     "data": {
      "text/plain": [
       "array([1, 1, 1, 2, 2, 2, 3, 3, 3, 1, 2, 3, 1, 2, 3, 1, 2, 3])"
      ]
     },
     "execution_count": 169,
     "metadata": {},
     "output_type": "execute_result"
    }
   ],
   "source": [
    "np.hstack([np.repeat(a,3), np.tile(a,3)])\n"
   ]
  },
  {
   "cell_type": "code",
   "execution_count": null,
   "id": "0ca5d0d6",
   "metadata": {},
   "outputs": [],
   "source": []
  }
 ],
 "metadata": {
  "kernelspec": {
   "display_name": "Python 3",
   "language": "python",
   "name": "python3"
  },
  "language_info": {
   "codemirror_mode": {
    "name": "ipython",
    "version": 3
   },
   "file_extension": ".py",
   "mimetype": "text/x-python",
   "name": "python",
   "nbconvert_exporter": "python",
   "pygments_lexer": "ipython3",
   "version": "3.8.8"
  }
 },
 "nbformat": 4,
 "nbformat_minor": 5
}
