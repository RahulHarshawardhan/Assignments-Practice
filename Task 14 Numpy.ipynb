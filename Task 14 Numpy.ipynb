{
 "cells": [
  {
   "cell_type": "code",
   "execution_count": 2,
   "id": "2cd9ca50",
   "metadata": {},
   "outputs": [],
   "source": [
    "import numpy as np"
   ]
  },
  {
   "cell_type": "code",
   "execution_count": 22,
   "id": "96391b79",
   "metadata": {},
   "outputs": [
    {
     "data": {
      "text/plain": [
       "array([13,  6,  1,  8, 15, 22, 29, 36])"
      ]
     },
     "execution_count": 22,
     "metadata": {},
     "output_type": "execute_result"
    }
   ],
   "source": [
    "#Q-1: Find the nearest element in the array to a given integer.\n",
    "arr = np.array([10,17,24,31,38,45,52,59])\n",
    "a = 23\n",
    "abs(arr-a)\n"
   ]
  },
  {
   "cell_type": "code",
   "execution_count": 23,
   "id": "e6e9f372",
   "metadata": {},
   "outputs": [
    {
     "data": {
      "text/plain": [
       "2"
      ]
     },
     "execution_count": 23,
     "metadata": {},
     "output_type": "execute_result"
    }
   ],
   "source": [
    "abs(arr-a).argmin()"
   ]
  },
  {
   "cell_type": "code",
   "execution_count": 24,
   "id": "137a705f",
   "metadata": {},
   "outputs": [
    {
     "data": {
      "text/plain": [
       "24"
      ]
     },
     "execution_count": 24,
     "metadata": {},
     "output_type": "execute_result"
    }
   ],
   "source": [
    "arr[abs(arr-a).argmin()]"
   ]
  },
  {
   "cell_type": "code",
   "execution_count": null,
   "id": "74a898cc",
   "metadata": {},
   "outputs": [],
   "source": [
    "#Q2) Replace multiples of 3 or 5 as 0 in the given array."
   ]
  },
  {
   "cell_type": "code",
   "execution_count": 34,
   "id": "ac1085a4",
   "metadata": {},
   "outputs": [],
   "source": [
    "arr= np.array([1, 2, 3, 4, 5, 6, 7, 9])\n"
   ]
  },
  {
   "cell_type": "code",
   "execution_count": 36,
   "id": "947eac39",
   "metadata": {},
   "outputs": [],
   "source": [
    "arr[(arr%3==0) | (arr%5==0)]=0"
   ]
  },
  {
   "cell_type": "code",
   "execution_count": 37,
   "id": "02d0f767",
   "metadata": {},
   "outputs": [
    {
     "data": {
      "text/plain": [
       "array([1, 2, 0, 4, 0, 0, 7, 0])"
      ]
     },
     "execution_count": 37,
     "metadata": {},
     "output_type": "execute_result"
    }
   ],
   "source": [
    "arr"
   ]
  },
  {
   "cell_type": "code",
   "execution_count": 40,
   "id": "b10ee9bd",
   "metadata": {},
   "outputs": [
    {
     "data": {
      "text/plain": [
       "array([0, 1, 2, 3, 4, 5, 6, 7, 8, 9])"
      ]
     },
     "execution_count": 40,
     "metadata": {},
     "output_type": "execute_result"
    }
   ],
   "source": [
    "#-q3: Use Fancy Indexing.\n",
    "#1) Double the array elements at given indexes,\n",
    "\n",
    "arr = np.arange(10)\n",
    "arr\n"
   ]
  },
  {
   "cell_type": "code",
   "execution_count": 42,
   "id": "930d7f6e",
   "metadata": {},
   "outputs": [],
   "source": [
    "arr[[0,3,4,9]] = arr[[0,3,4,9]]*2"
   ]
  },
  {
   "cell_type": "code",
   "execution_count": 43,
   "id": "a80f2a89",
   "metadata": {},
   "outputs": [
    {
     "data": {
      "text/plain": [
       "array([ 0,  1,  2,  6,  8,  5,  6,  7,  8, 18])"
      ]
     },
     "execution_count": 43,
     "metadata": {},
     "output_type": "execute_result"
    }
   ],
   "source": [
    "arr"
   ]
  },
  {
   "cell_type": "code",
   "execution_count": 9,
   "id": "5bb5075a",
   "metadata": {},
   "outputs": [
    {
     "data": {
      "text/plain": [
       "array([1, 1, 1, 1, 2, 2, 2, 2, 3, 3, 3, 3, 4, 4, 4, 4])"
      ]
     },
     "execution_count": 9,
     "metadata": {},
     "output_type": "execute_result"
    }
   ],
   "source": [
    "#2nd part\n",
    "array = np.array([1,2,3,4])\n",
    "indexes = []\n",
    "for index in range(len(array)):\n",
    "    indexes.extend([index]*len(array))\n",
    "\n",
    "array[indexes]"
   ]
  },
  {
   "cell_type": "code",
   "execution_count": 34,
   "id": "a0b0b177",
   "metadata": {},
   "outputs": [],
   "source": [
    "#Q4- Your are given an array which is havig some nan value. You job is to fill those nan values with most common element\n",
    "#in the array.\n",
    "\n",
    "arr=np.array([[1,2,np.nan],[4,2,6],[np.nan,np.nan,5]])"
   ]
  },
  {
   "cell_type": "code",
   "execution_count": 35,
   "id": "ec73d31d",
   "metadata": {},
   "outputs": [],
   "source": [
    "arr.flatten()\n",
    "d = {}\n",
    "for i in arr.flatten():\n",
    "    if i in d:\n",
    "        d[i]= d[i]+1\n",
    "    else:\n",
    "        d[i] = 1\n",
    "arr[np.isnan(arr)] = sorted(d.items(), key = lambda x: x[1])[-1][0]"
   ]
  },
  {
   "cell_type": "code",
   "execution_count": 36,
   "id": "14809aee",
   "metadata": {},
   "outputs": [
    {
     "data": {
      "text/plain": [
       "array([[1., 2., 2.],\n",
       "       [4., 2., 6.],\n",
       "       [2., 2., 5.]])"
      ]
     },
     "execution_count": 36,
     "metadata": {},
     "output_type": "execute_result"
    }
   ],
   "source": [
    "arr"
   ]
  },
  {
   "cell_type": "code",
   "execution_count": 43,
   "id": "6000d95d",
   "metadata": {},
   "outputs": [],
   "source": [
    "#Q-5: Write a NumPy program\n",
    " #   to find the missing data in a given array. Return a boolean matrix.\n",
    "a = np.array([[3, 2, np.nan, 1],\n",
    "          [10, 12, 10, 9],\n",
    "          [5, np.nan, 1, np.nan]])"
   ]
  },
  {
   "cell_type": "code",
   "execution_count": 38,
   "id": "e70de334",
   "metadata": {},
   "outputs": [
    {
     "data": {
      "text/plain": [
       "array([[ 3.,  2., nan,  1.],\n",
       "       [10., 12., 10.,  9.],\n",
       "       [ 5., nan,  1., nan]])"
      ]
     },
     "execution_count": 38,
     "metadata": {},
     "output_type": "execute_result"
    }
   ],
   "source": [
    "a"
   ]
  },
  {
   "cell_type": "code",
   "execution_count": 39,
   "id": "b5f8edc4",
   "metadata": {},
   "outputs": [
    {
     "data": {
      "text/plain": [
       "array([[False, False,  True, False],\n",
       "       [False, False, False, False],\n",
       "       [False,  True, False,  True]])"
      ]
     },
     "execution_count": 39,
     "metadata": {},
     "output_type": "execute_result"
    }
   ],
   "source": [
    "np.isnan(a)"
   ]
  },
  {
   "cell_type": "code",
   "execution_count": 40,
   "id": "d3d507e0",
   "metadata": {},
   "outputs": [],
   "source": [
    "a[np.isnan(a)]=0"
   ]
  },
  {
   "cell_type": "code",
   "execution_count": 41,
   "id": "19c5cac3",
   "metadata": {},
   "outputs": [
    {
     "data": {
      "text/plain": [
       "array([[ 3.,  2.,  0.,  1.],\n",
       "       [10., 12., 10.,  9.],\n",
       "       [ 5.,  0.,  1.,  0.]])"
      ]
     },
     "execution_count": 41,
     "metadata": {},
     "output_type": "execute_result"
    }
   ],
   "source": [
    "a"
   ]
  },
  {
   "cell_type": "code",
   "execution_count": 42,
   "id": "3feeaf2f",
   "metadata": {},
   "outputs": [
    {
     "data": {
      "text/plain": [
       "array([[ 3.,  2.,  0.,  1.],\n",
       "       [10., 12., 10.,  9.],\n",
       "       [ 5.,  0.,  1.,  0.]])"
      ]
     },
     "execution_count": 42,
     "metadata": {},
     "output_type": "execute_result"
    }
   ],
   "source": [
    "a"
   ]
  },
  {
   "cell_type": "code",
   "execution_count": 44,
   "id": "1f8b2a84",
   "metadata": {},
   "outputs": [
    {
     "data": {
      "text/plain": [
       "array([[ 3.,  2., nan,  1.],\n",
       "       [10., 12., 10.,  9.],\n",
       "       [ 5., nan,  1., nan]])"
      ]
     },
     "execution_count": 44,
     "metadata": {},
     "output_type": "execute_result"
    }
   ],
   "source": [
    "# Anpther way\n",
    "a"
   ]
  },
  {
   "cell_type": "code",
   "execution_count": 45,
   "id": "c71c8c6d",
   "metadata": {},
   "outputs": [
    {
     "data": {
      "text/plain": [
       "array([[False, False,  True, False],\n",
       "       [False, False, False, False],\n",
       "       [False,  True, False,  True]])"
      ]
     },
     "execution_count": 45,
     "metadata": {},
     "output_type": "execute_result"
    }
   ],
   "source": [
    "np.isnan(a)"
   ]
  },
  {
   "cell_type": "code",
   "execution_count": 48,
   "id": "75b087af",
   "metadata": {},
   "outputs": [
    {
     "data": {
      "text/plain": [
       "array([[ 3.,  2.,  0.,  1.],\n",
       "       [10., 12., 10.,  9.],\n",
       "       [ 5.,  0.,  1.,  0.]])"
      ]
     },
     "execution_count": 48,
     "metadata": {},
     "output_type": "execute_result"
    }
   ],
   "source": [
    "np.nan_to_num(a, nan=0)"
   ]
  },
  {
   "cell_type": "code",
   "execution_count": 62,
   "id": "01289873",
   "metadata": {},
   "outputs": [],
   "source": [
    "#Q6Given two arrays, X and Y, construct the Cauchy matrix C.\n",
    "\n",
    "#cij = 1/(xi-yj)\n",
    "x = np.array([1,2,3,4]).reshape((-1,1))"
   ]
  },
  {
   "cell_type": "code",
   "execution_count": 71,
   "id": "407c0007",
   "metadata": {},
   "outputs": [
    {
     "name": "stdout",
     "output_type": "stream",
     "text": [
      "[[1 1 1]\n",
      " [2 2 2]\n",
      " [3 3 3]\n",
      " [4 4 4]]\n"
     ]
    }
   ],
   "source": [
    "x\n",
    "print(np.broadcast_to(x,(4,3)))\n"
   ]
  },
  {
   "cell_type": "code",
   "execution_count": 72,
   "id": "6e88ffa8",
   "metadata": {},
   "outputs": [
    {
     "name": "stdout",
     "output_type": "stream",
     "text": [
      "[[5 6 7]\n",
      " [5 6 7]\n",
      " [5 6 7]\n",
      " [5 6 7]]\n"
     ]
    }
   ],
   "source": [
    "y = np.array([5,6,7])\n",
    "print(np.broadcast_to(y,(4,3)))"
   ]
  },
  {
   "cell_type": "code",
   "execution_count": 73,
   "id": "05453287",
   "metadata": {},
   "outputs": [
    {
     "data": {
      "text/plain": [
       "array([[-4, -5, -6],\n",
       "       [-3, -4, -5],\n",
       "       [-2, -3, -4],\n",
       "       [-1, -2, -3]])"
      ]
     },
     "execution_count": 73,
     "metadata": {},
     "output_type": "execute_result"
    }
   ],
   "source": [
    "x-y"
   ]
  },
  {
   "cell_type": "code",
   "execution_count": 74,
   "id": "740c7ba4",
   "metadata": {},
   "outputs": [
    {
     "data": {
      "text/plain": [
       "array([[-0.25      , -0.2       , -0.16666667],\n",
       "       [-0.33333333, -0.25      , -0.2       ],\n",
       "       [-0.5       , -0.33333333, -0.25      ],\n",
       "       [-1.        , -0.5       , -0.33333333]])"
      ]
     },
     "execution_count": 74,
     "metadata": {},
     "output_type": "execute_result"
    }
   ],
   "source": [
    "1/(x-y)"
   ]
  },
  {
   "cell_type": "code",
   "execution_count": 86,
   "id": "eeabc690",
   "metadata": {},
   "outputs": [],
   "source": [
    "#Q-7: Plot this below equation.\n",
    "\n",
    "x= np.linspace(-30,30,1000)\n",
    "y = (np.exp(x)-np.exp(-x))/((np.exp(x))+(np.exp(-x)))"
   ]
  },
  {
   "cell_type": "code",
   "execution_count": 89,
   "id": "06828673",
   "metadata": {},
   "outputs": [
    {
     "data": {
      "text/plain": [
       "[<matplotlib.lines.Line2D at 0x29c42c07d60>]"
      ]
     },
     "execution_count": 89,
     "metadata": {},
     "output_type": "execute_result"
    },
    {
     "data": {
      "image/png": "[encoded data removed]",
      "text/plain": [
       "<Figure size 432x288 with 1 Axes>"
      ]
     },
     "metadata": {
      "needs_background": "light"
     },
     "output_type": "display_data"
    }
   ],
   "source": [
    "import matplotlib.pyplot as plt\n",
    "plt.plot(y)"
   ]
  },
  {
   "cell_type": "code",
   "execution_count": 93,
   "id": "d42cd2ce",
   "metadata": {},
   "outputs": [],
   "source": [
    "#Q8) \n",
    "x = np.linspace(-2,10,500)\n",
    "y = np.sqrt(36-((x-4)**2))+2"
   ]
  },
  {
   "cell_type": "code",
   "execution_count": 94,
   "id": "c20fd8e3",
   "metadata": {},
   "outputs": [
    {
     "data": {
      "text/plain": [
       "[<matplotlib.lines.Line2D at 0x29c4741b100>]"
      ]
     },
     "execution_count": 94,
     "metadata": {},
     "output_type": "execute_result"
    },
    {
     "data": {
      "image/png": "[encoded data removed]",
      "text/plain": [
       "<Figure size 432x288 with 1 Axes>"
      ]
     },
     "metadata": {
      "needs_background": "light"
     },
     "output_type": "display_data"
    }
   ],
   "source": [
    "plt.plot(x,y)"
   ]
  },
  {
   "cell_type": "code",
   "execution_count": 95,
   "id": "2bff8a1b",
   "metadata": {},
   "outputs": [],
   "source": [
    "#9)  Write a program implement Boradcasting Rule to check if two array can be added or not.\n",
    "\n",
    "#shape of a- (3,2,2)\n",
    "#shape of b- (2,2)\n",
    "\n",
    "x = np.arange(12).reshape(3,2,2)"
   ]
  },
  {
   "cell_type": "code",
   "execution_count": 96,
   "id": "4bd6ad76",
   "metadata": {},
   "outputs": [],
   "source": [
    "y = np.arange(4).reshape(2,2)"
   ]
  },
  {
   "cell_type": "code",
   "execution_count": 97,
   "id": "f78e87d5",
   "metadata": {},
   "outputs": [
    {
     "data": {
      "text/plain": [
       "array([[[ 0,  1],\n",
       "        [ 2,  3]],\n",
       "\n",
       "       [[ 4,  5],\n",
       "        [ 6,  7]],\n",
       "\n",
       "       [[ 8,  9],\n",
       "        [10, 11]]])"
      ]
     },
     "execution_count": 97,
     "metadata": {},
     "output_type": "execute_result"
    }
   ],
   "source": [
    "x"
   ]
  },
  {
   "cell_type": "code",
   "execution_count": 98,
   "id": "4b46fe88",
   "metadata": {},
   "outputs": [
    {
     "data": {
      "text/plain": [
       "array([[0, 1],\n",
       "       [2, 3]])"
      ]
     },
     "execution_count": 98,
     "metadata": {},
     "output_type": "execute_result"
    }
   ],
   "source": [
    "y"
   ]
  },
  {
   "cell_type": "code",
   "execution_count": 114,
   "id": "7f10db44",
   "metadata": {},
   "outputs": [],
   "source": [
    "def check_broadcast(a,b):\n",
    "    a = a[::-1]\n",
    "    b = a[::-1]\n",
    "    for ai, bi in zip(a,b):\n",
    "        if ai != bi and ai != 1 and bi != 1:\n",
    "            return False\n",
    "        return True\n"
   ]
  },
  {
   "cell_type": "code",
   "execution_count": 115,
   "id": "7e3a672a",
   "metadata": {},
   "outputs": [
    {
     "data": {
      "text/plain": [
       "False"
      ]
     },
     "execution_count": 115,
     "metadata": {},
     "output_type": "execute_result"
    }
   ],
   "source": [
    "check_broadcast((4,3,3,5),(2,5))"
   ]
  },
  {
   "cell_type": "code",
   "execution_count": 113,
   "id": "fa117730",
   "metadata": {},
   "outputs": [
    {
     "data": {
      "text/plain": [
       "False"
      ]
     },
     "execution_count": 113,
     "metadata": {},
     "output_type": "execute_result"
    }
   ],
   "source": [
    "def check_broadcast(a,b):\n",
    "    a = a[::-1]\n",
    "    b = a[::-1]\n",
    "    for ai, bi in zip(a,b):\n",
    "        if ai != bi and ai != 1 and bi != 1:\n",
    "            return False\n",
    "    return True\n",
    "check_broadcast((4,3,1,5),(4,3,1,5))"
   ]
  },
  {
   "cell_type": "code",
   "execution_count": null,
   "id": "8acba8d5",
   "metadata": {},
   "outputs": [],
   "source": []
  }
 ],
 "metadata": {
  "kernelspec": {
   "display_name": "Python 3",
   "language": "python",
   "name": "python3"
  },
  "language_info": {
   "codemirror_mode": {
    "name": "ipython",
    "version": 3
   },
   "file_extension": ".py",
   "mimetype": "text/x-python",
   "name": "python",
   "nbconvert_exporter": "python",
   "pygments_lexer": "ipython3",
   "version": "3.8.8"
  }
 },
 "nbformat": 4,
 "nbformat_minor": 5
}
