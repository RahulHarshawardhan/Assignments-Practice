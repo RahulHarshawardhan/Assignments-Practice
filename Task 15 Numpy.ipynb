{
 "cells": [
  {
   "cell_type": "code",
   "execution_count": 26,
   "id": "26a05b94",
   "metadata": {},
   "outputs": [],
   "source": [
    "#Q-1: Create a random 3x4 matrix with value between 0-100. And perform below tasks\n",
    "\n",
    "x = np.random.randint(0,100,12).reshape(4,3)"
   ]
  },
  {
   "cell_type": "code",
   "execution_count": 27,
   "id": "06b3b7e5",
   "metadata": {},
   "outputs": [],
   "source": [
    "import numpy as np"
   ]
  },
  {
   "cell_type": "code",
   "execution_count": 28,
   "id": "e75a4713",
   "metadata": {},
   "outputs": [
    {
     "data": {
      "text/plain": [
       "array([[13, 84, 56],\n",
       "       [50, 65,  3],\n",
       "       [70, 73, 51],\n",
       "       [59, 73, 57]])"
      ]
     },
     "execution_count": 28,
     "metadata": {},
     "output_type": "execute_result"
    }
   ],
   "source": [
    "x"
   ]
  },
  {
   "cell_type": "code",
   "execution_count": 29,
   "id": "16d8d987",
   "metadata": {},
   "outputs": [
    {
     "data": {
      "text/plain": [
       "array([[13, 56, 84],\n",
       "       [ 3, 50, 65],\n",
       "       [51, 70, 73],\n",
       "       [57, 59, 73]])"
      ]
     },
     "execution_count": 29,
     "metadata": {},
     "output_type": "execute_result"
    }
   ],
   "source": [
    "#1) sort the matrix np.sort().\n",
    "\n",
    "np.sort(x)"
   ]
  },
  {
   "cell_type": "code",
   "execution_count": 36,
   "id": "dedb6fc3",
   "metadata": {},
   "outputs": [
    {
     "data": {
      "text/plain": [
       "array([[50, 65,  3],\n",
       "       [70, 73, 51],\n",
       "       [59, 73, 57],\n",
       "       [13, 84, 56]])"
      ]
     },
     "execution_count": 36,
     "metadata": {},
     "output_type": "execute_result"
    }
   ],
   "source": [
    "#2)  Sort this matrix based on values in 2nd column.x\n",
    "x[x[:,1].argsort()]\n",
    "\n"
   ]
  },
  {
   "cell_type": "code",
   "execution_count": 31,
   "id": "d061a0b1",
   "metadata": {},
   "outputs": [
    {
     "data": {
      "text/plain": [
       "array([[13, 84, 56],\n",
       "       [50, 65,  3],\n",
       "       [70, 73, 51],\n",
       "       [59, 73, 57]])"
      ]
     },
     "execution_count": 31,
     "metadata": {},
     "output_type": "execute_result"
    }
   ],
   "source": [
    "#3) Sort this matrix based on max value in each row.\n",
    "x"
   ]
  },
  {
   "cell_type": "code",
   "execution_count": 37,
   "id": "3950e16c",
   "metadata": {},
   "outputs": [
    {
     "name": "stdout",
     "output_type": "stream",
     "text": [
      "[[50 65  3]\n",
      " [70 73 51]\n",
      " [59 73 57]\n",
      " [13 84 56]]\n"
     ]
    }
   ],
   "source": [
    "print(np.array(sorted(x, key= lambda x: max(x))))"
   ]
  },
  {
   "cell_type": "code",
   "execution_count": 39,
   "id": "eb2bebf4",
   "metadata": {},
   "outputs": [
    {
     "data": {
      "text/plain": [
       "array([[ 3, 13, 50],\n",
       "       [51, 56, 57],\n",
       "       [59, 65, 70],\n",
       "       [73, 73, 84]])"
      ]
     },
     "execution_count": 39,
     "metadata": {},
     "output_type": "execute_result"
    }
   ],
   "source": [
    "#4Sort based on elements value.\n",
    "np.sort(x, axis=None).reshape(4,3)"
   ]
  },
  {
   "cell_type": "code",
   "execution_count": 43,
   "id": "10766fdf",
   "metadata": {},
   "outputs": [],
   "source": [
    "#Q-2: There is an array of marks of 5 students in 4 subjects. Further you are asked to perform below task\n",
    "\n",
    "marks = [[13, 10,  9, 33],\n",
    "       [63, 46, 90, 42],\n",
    "       [39, 76, 13, 29],\n",
    "       [82,  9, 29, 78],\n",
    "       [67, 61, 59, 36]]"
   ]
  },
  {
   "cell_type": "code",
   "execution_count": 44,
   "id": "94167f8e",
   "metadata": {},
   "outputs": [
    {
     "data": {
      "text/plain": [
       "array([[13, 10,  9, 33],\n",
       "       [63, 46, 90, 42],\n",
       "       [39, 76, 13, 29],\n",
       "       [82,  9, 29, 78],\n",
       "       [67, 61, 59, 36]])"
      ]
     },
     "execution_count": 44,
     "metadata": {},
     "output_type": "execute_result"
    }
   ],
   "source": [
    "np.array(marks)"
   ]
  },
  {
   "cell_type": "code",
   "execution_count": 54,
   "id": "70faec72",
   "metadata": {},
   "outputs": [],
   "source": [
    "extra_subject = np.array([41,87,72,36,92]).reshape(-1,1)"
   ]
  },
  {
   "cell_type": "code",
   "execution_count": 55,
   "id": "d71ca07e",
   "metadata": {},
   "outputs": [
    {
     "data": {
      "text/plain": [
       "array([[41],\n",
       "       [87],\n",
       "       [72],\n",
       "       [36],\n",
       "       [92]])"
      ]
     },
     "execution_count": 55,
     "metadata": {},
     "output_type": "execute_result"
    }
   ],
   "source": [
    "extra_subject"
   ]
  },
  {
   "cell_type": "code",
   "execution_count": 57,
   "id": "f529d0b2",
   "metadata": {},
   "outputs": [],
   "source": [
    "#1) Add marks every student of an extra subject in the same array.\n",
    "\n",
    "#we havr to add extra subject that means we have to add a ro with the given array. But to concatenate\n",
    "#we have to reshape to the current array.\n",
    "\n",
    "\n",
    "marks = np.concatenate([marks, extra_subject], axis=1)"
   ]
  },
  {
   "cell_type": "code",
   "execution_count": 58,
   "id": "a88ed5ee",
   "metadata": {},
   "outputs": [
    {
     "data": {
      "text/plain": [
       "array([[13, 10,  9, 33, 41],\n",
       "       [63, 46, 90, 42, 87],\n",
       "       [39, 76, 13, 29, 72],\n",
       "       [82,  9, 29, 78, 36],\n",
       "       [67, 61, 59, 36, 92]])"
      ]
     },
     "execution_count": 58,
     "metadata": {},
     "output_type": "execute_result"
    }
   ],
   "source": [
    "marks"
   ]
  },
  {
   "cell_type": "code",
   "execution_count": 59,
   "id": "659010a8",
   "metadata": {},
   "outputs": [],
   "source": [
    "#2) ii. Add two new students marks in respective 5 subjects.(one subject added in above task)\n",
    "rec1 = np.array([77, 83, 98, 95, 89])\n",
    "rec2 = np.array([92, 71, 52, 61, 53])"
   ]
  },
  {
   "cell_type": "code",
   "execution_count": 72,
   "id": "76fce16a",
   "metadata": {},
   "outputs": [],
   "source": [
    "rec1 = np.array([77, 83, 98, 95, 89]).reshape(1,-1)\n",
    "rec2 = np.array([92, 71, 52, 61, 53]).reshape(1,-1)"
   ]
  },
  {
   "cell_type": "code",
   "execution_count": 74,
   "id": "36ca564d",
   "metadata": {},
   "outputs": [
    {
     "data": {
      "text/plain": [
       "array([[77, 83, 98, 95, 89]])"
      ]
     },
     "execution_count": 74,
     "metadata": {},
     "output_type": "execute_result"
    }
   ],
   "source": [
    "rec1"
   ]
  },
  {
   "cell_type": "code",
   "execution_count": 75,
   "id": "95314aa0",
   "metadata": {},
   "outputs": [
    {
     "data": {
      "text/plain": [
       "array([[92, 71, 52, 61, 53]])"
      ]
     },
     "execution_count": 75,
     "metadata": {},
     "output_type": "execute_result"
    }
   ],
   "source": [
    "rec2"
   ]
  },
  {
   "cell_type": "code",
   "execution_count": 76,
   "id": "ba9fe130",
   "metadata": {},
   "outputs": [
    {
     "data": {
      "text/plain": [
       "array([[13, 10,  9, 33, 41],\n",
       "       [63, 46, 90, 42, 87],\n",
       "       [39, 76, 13, 29, 72],\n",
       "       [82,  9, 29, 78, 36],\n",
       "       [67, 61, 59, 36, 92]])"
      ]
     },
     "execution_count": 76,
     "metadata": {},
     "output_type": "execute_result"
    }
   ],
   "source": [
    "marks"
   ]
  },
  {
   "cell_type": "code",
   "execution_count": 78,
   "id": "fa81997b",
   "metadata": {},
   "outputs": [
    {
     "data": {
      "text/plain": [
       "array([[13, 10,  9, 33, 41],\n",
       "       [63, 46, 90, 42, 87],\n",
       "       [39, 76, 13, 29, 72],\n",
       "       [82,  9, 29, 78, 36],\n",
       "       [67, 61, 59, 36, 92],\n",
       "       [77, 83, 98, 95, 89],\n",
       "       [92, 71, 52, 61, 53],\n",
       "       [77, 83, 98, 95, 89],\n",
       "       [92, 71, 52, 61, 53]])"
      ]
     },
     "execution_count": 78,
     "metadata": {},
     "output_type": "execute_result"
    }
   ],
   "source": [
    "marks = np.concatenate([marks, rec1, rec2], axis =0)\n",
    "marks"
   ]
  },
  {
   "cell_type": "code",
   "execution_count": 81,
   "id": "c701c08a",
   "metadata": {},
   "outputs": [],
   "source": [
    "#3) iii. Add extra column with sum of all subjects(5-subjects) marks\n",
    "\n",
    "sum_of_student = marks.sum(axis = 1, keepdims = True)"
   ]
  },
  {
   "cell_type": "code",
   "execution_count": 82,
   "id": "c3dbd2af",
   "metadata": {},
   "outputs": [
    {
     "data": {
      "text/plain": [
       "array([[106],\n",
       "       [328],\n",
       "       [229],\n",
       "       [234],\n",
       "       [315],\n",
       "       [442],\n",
       "       [329],\n",
       "       [442],\n",
       "       [329]])"
      ]
     },
     "execution_count": 82,
     "metadata": {},
     "output_type": "execute_result"
    }
   ],
   "source": [
    "sum_of_student"
   ]
  },
  {
   "cell_type": "code",
   "execution_count": 84,
   "id": "49d31e31",
   "metadata": {},
   "outputs": [],
   "source": [
    "marks = np.concatenate([marks, sum_of_student], axis = 1)"
   ]
  },
  {
   "cell_type": "code",
   "execution_count": 85,
   "id": "49a91f14",
   "metadata": {},
   "outputs": [
    {
     "data": {
      "text/plain": [
       "array([[ 13,  10,   9,  33,  41, 106],\n",
       "       [ 63,  46,  90,  42,  87, 328],\n",
       "       [ 39,  76,  13,  29,  72, 229],\n",
       "       [ 82,   9,  29,  78,  36, 234],\n",
       "       [ 67,  61,  59,  36,  92, 315],\n",
       "       [ 77,  83,  98,  95,  89, 442],\n",
       "       [ 92,  71,  52,  61,  53, 329],\n",
       "       [ 77,  83,  98,  95,  89, 442],\n",
       "       [ 92,  71,  52,  61,  53, 329]])"
      ]
     },
     "execution_count": 85,
     "metadata": {},
     "output_type": "execute_result"
    }
   ],
   "source": [
    "marks\n"
   ]
  },
  {
   "cell_type": "code",
   "execution_count": 86,
   "id": "0d6b13e9",
   "metadata": {},
   "outputs": [
    {
     "data": {
      "text/plain": [
       "array([[ 77,  83,  98,  95,  89, 442],\n",
       "       [ 77,  83,  98,  95,  89, 442],\n",
       "       [ 92,  71,  52,  61,  53, 329],\n",
       "       [ 92,  71,  52,  61,  53, 329],\n",
       "       [ 63,  46,  90,  42,  87, 328],\n",
       "       [ 67,  61,  59,  36,  92, 315],\n",
       "       [ 82,   9,  29,  78,  36, 234],\n",
       "       [ 39,  76,  13,  29,  72, 229],\n",
       "       [ 13,  10,   9,  33,  41, 106]])"
      ]
     },
     "execution_count": 86,
     "metadata": {},
     "output_type": "execute_result"
    }
   ],
   "source": [
    "#iv. Sort the array(non-ascending order) on total marks column--one added in above task. Show top 2 rows.#\n",
    "\n",
    "np.array(sorted(marks, key = lambda x: x[-1], reverse= True))"
   ]
  },
  {
   "cell_type": "code",
   "execution_count": null,
   "id": "f0479cd5",
   "metadata": {},
   "outputs": [],
   "source": [
    "#Q-3: Find unique arrays from a 2D array column wise and row wise."
   ]
  },
  {
   "cell_type": "code",
   "execution_count": 89,
   "id": "fc49a7ea",
   "metadata": {},
   "outputs": [],
   "source": [
    "arr = np.array([[1,2,3,3,1,1],\n",
    "                [0,9,1,2,8,8],\n",
    "                [1,2,3,8,8,8],\n",
    "                [1,2,3,3,1,1]])"
   ]
  },
  {
   "cell_type": "code",
   "execution_count": 90,
   "id": "a0f51d9d",
   "metadata": {},
   "outputs": [
    {
     "data": {
      "text/plain": [
       "array([[1, 2, 3, 3, 1, 1],\n",
       "       [0, 9, 1, 2, 8, 8],\n",
       "       [1, 2, 3, 8, 8, 8],\n",
       "       [1, 2, 3, 3, 1, 1]])"
      ]
     },
     "execution_count": 90,
     "metadata": {},
     "output_type": "execute_result"
    }
   ],
   "source": [
    "arr"
   ]
  },
  {
   "cell_type": "code",
   "execution_count": 93,
   "id": "348d13c6",
   "metadata": {},
   "outputs": [
    {
     "data": {
      "text/plain": [
       "array([[0, 9, 1, 2, 8, 8],\n",
       "       [1, 2, 3, 3, 1, 1],\n",
       "       [1, 2, 3, 8, 8, 8]])"
      ]
     },
     "execution_count": 93,
     "metadata": {},
     "output_type": "execute_result"
    }
   ],
   "source": [
    "np.unique(arr, axis = 0)"
   ]
  },
  {
   "cell_type": "code",
   "execution_count": 94,
   "id": "bf2ba67a",
   "metadata": {},
   "outputs": [
    {
     "data": {
      "text/plain": [
       "array([[1, 1, 2, 3, 3],\n",
       "       [0, 8, 9, 1, 2],\n",
       "       [1, 8, 2, 3, 8],\n",
       "       [1, 1, 2, 3, 3]])"
      ]
     },
     "execution_count": 94,
     "metadata": {},
     "output_type": "execute_result"
    }
   ],
   "source": [
    "np.unique(arr, axis = 1)"
   ]
  },
  {
   "cell_type": "code",
   "execution_count": 96,
   "id": "ca2aedae",
   "metadata": {},
   "outputs": [],
   "source": [
    "#Q-4: Flip given 2-D array along both axes at the same time.\n",
    "arr = np.array([[1,2,3,3,1,1],\n",
    "                [0,9,1,2,8,8],\n",
    "                [1,2,3,8,8,8],\n",
    "                [1,2,3,3,1,1]])\n"
   ]
  },
  {
   "cell_type": "code",
   "execution_count": 101,
   "id": "7eaa4eb7",
   "metadata": {},
   "outputs": [
    {
     "data": {
      "text/plain": [
       "array([[1, 1, 3, 3, 2, 1],\n",
       "       [8, 8, 8, 3, 2, 1],\n",
       "       [8, 8, 2, 1, 9, 0],\n",
       "       [1, 1, 3, 3, 2, 1]])"
      ]
     },
     "execution_count": 101,
     "metadata": {},
     "output_type": "execute_result"
    }
   ],
   "source": [
    "np.flip(arr, axis=[0,1])"
   ]
  },
  {
   "cell_type": "code",
   "execution_count": 109,
   "id": "20258641",
   "metadata": {},
   "outputs": [],
   "source": [
    "#Q5Get row numbers of NumPy array having element larger than X.\n",
    "\n",
    "arr =np.array([[1,2,3,4,5], \n",
    "      [10,-3,30,4,5], \n",
    "      [3,2,5,-4,5], \n",
    "      [9,7,3,6,5]]) \n",
    "\n",
    "x = 6"
   ]
  },
  {
   "cell_type": "code",
   "execution_count": 110,
   "id": "3c39973e",
   "metadata": {},
   "outputs": [
    {
     "data": {
      "text/plain": [
       "array([[ 1,  2,  3,  4,  5],\n",
       "       [10, -3, 30,  4,  5],\n",
       "       [ 3,  2,  5, -4,  5],\n",
       "       [ 9,  7,  3,  6,  5]])"
      ]
     },
     "execution_count": 110,
     "metadata": {},
     "output_type": "execute_result"
    }
   ],
   "source": [
    "arr"
   ]
  },
  {
   "cell_type": "code",
   "execution_count": 114,
   "id": "d4ff717e",
   "metadata": {},
   "outputs": [
    {
     "data": {
      "text/plain": [
       "(array([1, 3], dtype=int64),)"
      ]
     },
     "execution_count": 114,
     "metadata": {},
     "output_type": "execute_result"
    }
   ],
   "source": [
    "np.where(np.any(arr>x, axis = 1))"
   ]
  },
  {
   "cell_type": "code",
   "execution_count": null,
   "id": "27d7b1dd",
   "metadata": {},
   "outputs": [],
   "source": [
    "#Q6)How to convert an array of arrays into a flat 1d array?\n"
   ]
  },
  {
   "cell_type": "code",
   "execution_count": 117,
   "id": "89166fd9",
   "metadata": {},
   "outputs": [],
   "source": [
    "arr1 = np.arange(3)\n",
    "arr2 = np.arange(3,7)\n",
    "arr3 = np.arange(7,10)"
   ]
  },
  {
   "cell_type": "code",
   "execution_count": 124,
   "id": "3d4533ac",
   "metadata": {},
   "outputs": [
    {
     "data": {
      "text/plain": [
       "array([0, 1, 2, 3, 4, 5, 6, 7, 8, 9])"
      ]
     },
     "execution_count": 124,
     "metadata": {},
     "output_type": "execute_result"
    }
   ],
   "source": [
    "np.concatenate([arr1,arr2,arr3])"
   ]
  },
  {
   "cell_type": "code",
   "execution_count": 126,
   "id": "859b51a1",
   "metadata": {},
   "outputs": [],
   "source": [
    "#Q-7: You are given a array. You have to find the minimum and maximum array element and remove that from the array.\n",
    "\n",
    "np.random.seed(400)\n",
    "arr = np.random.randint(100, 1000, 200).reshape((1, 200))"
   ]
  },
  {
   "cell_type": "code",
   "execution_count": 127,
   "id": "9d8dff69",
   "metadata": {},
   "outputs": [
    {
     "data": {
      "text/plain": [
       "array([[448, 563, 418, 240, 507, 362, 345, 236, 719, 291, 298, 639, 458,\n",
       "        387, 262, 613, 267, 882, 181, 425, 790, 635, 889, 818, 872, 967,\n",
       "        277, 470, 336, 920, 917, 295, 557, 830, 506, 385, 353, 975, 592,\n",
       "        997, 137, 340, 222, 215, 472, 459, 617, 649, 935, 956, 914, 932,\n",
       "        645, 952, 921, 490, 527, 972, 278, 307, 840, 958, 246, 449, 251,\n",
       "        957, 103, 627, 920, 824, 356, 825, 173, 323, 372, 960, 710, 464,\n",
       "        244, 782, 763, 635, 436, 774, 171, 469, 178, 458, 624, 211, 771,\n",
       "        270, 308, 231, 952, 514, 699, 702, 433, 900, 373, 318, 998, 265,\n",
       "        503, 320, 230, 324, 922, 967, 620, 743, 527, 117, 566, 804, 123,\n",
       "        946, 587, 227, 853, 757, 944, 328, 855, 930, 325, 729, 426, 514,\n",
       "        296, 879, 575, 936, 705, 209, 191, 743, 510, 513, 628, 559, 658,\n",
       "        528, 395, 525, 922, 136, 496, 225, 895, 975, 263, 908, 420, 711,\n",
       "        800, 976, 786, 235, 930, 859, 618, 226, 695, 460, 218, 483, 490,\n",
       "        803, 621, 453, 193, 607, 677, 637, 728, 724, 534, 748, 291, 194,\n",
       "        761, 875, 687, 569, 228, 482, 781, 554, 654, 739, 885, 197, 266,\n",
       "        228, 892, 207, 883, 588]])"
      ]
     },
     "execution_count": 127,
     "metadata": {},
     "output_type": "execute_result"
    }
   ],
   "source": [
    "arr"
   ]
  },
  {
   "cell_type": "code",
   "execution_count": 128,
   "id": "2f6d404f",
   "metadata": {},
   "outputs": [],
   "source": [
    "max_elem = arr.argmax()\n",
    "min_elem = arr.argmin()"
   ]
  },
  {
   "cell_type": "code",
   "execution_count": 131,
   "id": "7fe70a7b",
   "metadata": {},
   "outputs": [
    {
     "data": {
      "text/plain": [
       "66"
      ]
     },
     "execution_count": 131,
     "metadata": {},
     "output_type": "execute_result"
    }
   ],
   "source": [
    "max_elem\n",
    "min_elem"
   ]
  },
  {
   "cell_type": "code",
   "execution_count": 132,
   "id": "7eb6744d",
   "metadata": {},
   "outputs": [],
   "source": [
    "arr  = np.delete(arr, max_elem, axis = 1)\n",
    "arr = np.delete(arr, min_elem, axis = 1)"
   ]
  },
  {
   "cell_type": "code",
   "execution_count": 134,
   "id": "20bfae9f",
   "metadata": {},
   "outputs": [
    {
     "data": {
      "text/plain": [
       "(1, 198)"
      ]
     },
     "execution_count": 134,
     "metadata": {},
     "output_type": "execute_result"
    }
   ],
   "source": [
    "arr.shape"
   ]
  },
  {
   "cell_type": "code",
   "execution_count": 135,
   "id": "95decc6a",
   "metadata": {},
   "outputs": [],
   "source": [
    "#Q-8: You are given an arrays. You have to limit this array's elements between 100 to 200. \n",
    "#arr∈[100,200] . So replace those values accordingly with the minimum and maximum value. \n",
    "#Then sort the array and perform the cumulative sum of that array."
   ]
  },
  {
   "cell_type": "code",
   "execution_count": 136,
   "id": "167d03a7",
   "metadata": {},
   "outputs": [],
   "source": [
    "arr = np.random.randint(0,200,500)"
   ]
  },
  {
   "cell_type": "code",
   "execution_count": 137,
   "id": "18b523f7",
   "metadata": {},
   "outputs": [
    {
     "data": {
      "text/plain": [
       "array([149,  25,  77,  71, 122, 146, 127, 133,  38,  45, 103, 123, 167,\n",
       "        32, 149,  36,   6,  98, 168, 182,  20,  20,  34, 185, 149, 112,\n",
       "        57,  55,  33, 122, 174, 179,  37, 100,  20, 142, 188,  80, 180,\n",
       "        63,  46,  57, 107, 148,  46,  31, 188, 132, 126,  54,  62, 176,\n",
       "       170, 115,  49, 131,   0,  62, 118,  53,  46, 161,  57,   3,  99,\n",
       "        98,  11, 138,  92,  97, 138,  49, 113, 167, 135,  23,  28, 137,\n",
       "       101,  63, 198,  12, 103,  28,  78,  54,  58,  30, 115,  97,   3,\n",
       "        10, 134,  43,  29, 107,  87, 168, 137, 188,  97, 155, 167,  50,\n",
       "        25,  94,  25, 199,   2, 149,  85,  46, 184,  60,  21,  28,  37,\n",
       "       135, 147,  47, 179,  64,  27, 141, 150, 123, 197,  52, 143, 143,\n",
       "       102, 132,  97, 109,  39, 116,  31, 125, 104,   8,  87,  22,  65,\n",
       "       161,  43, 133, 152,  77, 128, 166,  51, 132, 153, 188,  53,  48,\n",
       "       190, 154, 117,   8, 163,  99, 115, 115, 105, 113,  44, 173,   6,\n",
       "       171,  39, 152, 172, 101,  51, 199, 111, 108, 171,  36, 190,  89,\n",
       "        89, 157, 187, 191,  16,  42, 124,  93,  90,  86, 130, 181, 108,\n",
       "       124, 163,   8, 153,  19,  57, 112, 120,  94, 179,  47,  58,  23,\n",
       "        31,  15, 124, 152, 129, 150,  76, 148,  51,  43,  28, 186, 154,\n",
       "       178, 178, 108, 143, 199,  37,  53,  91,  35,  71, 138, 107, 176,\n",
       "       113, 168,  91, 100,  62, 146, 176,  42,  87,  50, 127,  24, 145,\n",
       "        13,  26, 179,  57,  78, 173, 128, 166, 199,  16,   7, 197, 156,\n",
       "       134, 158,  52, 184,  42, 127, 137, 103, 123, 135,   3,  45, 187,\n",
       "       113,  30, 184,  94, 119, 136,  95,  87,  69,  86,  53, 184, 158,\n",
       "        38,  81, 126,  66,  51, 142, 169,  90,  87,  75,  26,  15, 170,\n",
       "       110, 128, 190,  40,  95,   4, 141,  28,  29, 159,  60, 147,  23,\n",
       "        87,  82,  66, 192,  85, 102, 129,  98,  65,   5, 111, 184,  79,\n",
       "        25, 175,  23,  80,   6,  80,  86,   9, 188,  24,  99,  25,  32,\n",
       "        69,  46, 107, 128, 109, 152,  81, 161, 104, 109,  72, 190, 197,\n",
       "        86,   6,  25,  97, 139,  31,  16,  40,  85,  14, 188,  12,  98,\n",
       "       158,  18,  43,  45,  29,  75,  69, 178, 197, 113, 107, 110,  44,\n",
       "       135,  50,  38, 159, 146,   0,  15,  62,  55, 115, 151,   3, 127,\n",
       "        95, 125, 122,  33,  24,  25,  34, 169, 196,  20,  20, 137,   1,\n",
       "        88, 100,  58,  47,  80,  24,  72, 186,  37, 116,  99,  38,  65,\n",
       "        94,  58,  63, 109, 152, 114, 134, 191, 175,  47,  50, 178,  63,\n",
       "        72,  21,  57,  27, 100, 127,  30,  93,  52,  21,  97,  72, 156,\n",
       "        82, 107,  66, 128,  70, 134, 146,  67, 151, 142, 140, 175, 165,\n",
       "       176,  96,  17, 188,  73, 156, 180,  70, 126,  15, 186, 199,  83,\n",
       "        78,  67, 148,  41,  63,  53, 159,  69,  75, 117,  20,  59, 150,\n",
       "       136, 146,  32,  47,  96, 187, 143, 160,  16, 180, 162, 143, 159,\n",
       "       175,  54, 112, 186,  74,  92])"
      ]
     },
     "execution_count": 137,
     "metadata": {},
     "output_type": "execute_result"
    }
   ],
   "source": [
    "arr"
   ]
  },
  {
   "cell_type": "code",
   "execution_count": 140,
   "id": "05ca3af3",
   "metadata": {},
   "outputs": [
    {
     "data": {
      "text/plain": [
       "array([  100,   200,   300,   400,   500,   600,   700,   800,   900,\n",
       "        1000,  1100,  1200,  1300,  1400,  1500,  1600,  1700,  1800,\n",
       "        1900,  2000,  2100,  2200,  2300,  2400,  2500,  2600,  2700,\n",
       "        2800,  2900,  3000,  3100,  3200,  3300,  3400,  3500,  3600,\n",
       "        3700,  3800,  3900,  4000,  4100,  4200,  4300,  4400,  4500,\n",
       "        4600,  4700,  4800,  4900,  5000,  5100,  5200,  5300,  5400,\n",
       "        5500,  5600,  5700,  5800,  5900,  6000,  6100,  6200,  6300,\n",
       "        6400,  6500,  6600,  6700,  6800,  6900,  7000,  7100,  7200,\n",
       "        7300,  7400,  7500,  7600,  7700,  7800,  7900,  8000,  8100,\n",
       "        8200,  8300,  8400,  8500,  8600,  8700,  8800,  8900,  9000,\n",
       "        9100,  9200,  9300,  9400,  9500,  9600,  9700,  9800,  9900,\n",
       "       10000, 10100, 10200, 10300, 10400, 10500, 10600, 10700, 10800,\n",
       "       10900, 11000, 11100, 11200, 11300, 11400, 11500, 11600, 11700,\n",
       "       11800, 11900, 12000, 12100, 12200, 12300, 12400, 12500, 12600,\n",
       "       12700, 12800, 12900, 13000, 13100, 13200, 13300, 13400, 13500,\n",
       "       13600, 13700, 13800, 13900, 14000, 14100, 14200, 14300, 14400,\n",
       "       14500, 14600, 14700, 14800, 14900, 15000, 15100, 15200, 15300,\n",
       "       15400, 15500, 15600, 15700, 15800, 15900, 16000, 16100, 16200,\n",
       "       16300, 16400, 16500, 16600, 16700, 16800, 16900, 17000, 17100,\n",
       "       17200, 17300, 17400, 17500, 17600, 17700, 17800, 17900, 18000,\n",
       "       18100, 18200, 18300, 18400, 18500, 18600, 18700, 18800, 18900,\n",
       "       19000, 19100, 19200, 19300, 19400, 19500, 19600, 19700, 19800,\n",
       "       19900, 20000, 20100, 20200, 20300, 20400, 20500, 20600, 20700,\n",
       "       20800, 20900, 21000, 21100, 21200, 21300, 21400, 21500, 21600,\n",
       "       21700, 21800, 21900, 22000, 22100, 22200, 22300, 22400, 22500,\n",
       "       22600, 22700, 22800, 22900, 23000, 23100, 23200, 23300, 23400,\n",
       "       23500, 23600, 23700, 23800, 23900, 24000, 24100, 24200, 24300,\n",
       "       24400, 24500, 24600, 24700, 24800, 24900, 25000, 25100, 25200,\n",
       "       25300, 25400, 25500, 25600, 25700, 25800, 25900, 26000, 26100,\n",
       "       26200, 26300, 26400, 26501, 26602, 26704, 26806, 26909, 27012,\n",
       "       27115, 27219, 27323, 27428, 27535, 27642, 27749, 27856, 27963,\n",
       "       28070, 28178, 28286, 28394, 28503, 28612, 28721, 28830, 28940,\n",
       "       29050, 29161, 29272, 29384, 29496, 29608, 29721, 29834, 29947,\n",
       "       30060, 30173, 30287, 30402, 30517, 30632, 30747, 30862, 30978,\n",
       "       31094, 31211, 31328, 31446, 31565, 31685, 31807, 31929, 32051,\n",
       "       32174, 32297, 32420, 32544, 32668, 32792, 32917, 33042, 33168,\n",
       "       33294, 33420, 33547, 33674, 33801, 33928, 34055, 34183, 34311,\n",
       "       34439, 34567, 34695, 34824, 34953, 35083, 35214, 35346, 35478,\n",
       "       35610, 35743, 35876, 36010, 36144, 36278, 36412, 36547, 36682,\n",
       "       36817, 36952, 37088, 37224, 37361, 37498, 37635, 37772, 37910,\n",
       "       38048, 38186, 38325, 38465, 38606, 38747, 38889, 39031, 39173,\n",
       "       39316, 39459, 39602, 39745, 39888, 40033, 40179, 40325, 40471,\n",
       "       40617, 40763, 40910, 41057, 41205, 41353, 41501, 41650, 41799,\n",
       "       41948, 42097, 42247, 42397, 42547, 42698, 42849, 43001, 43153,\n",
       "       43305, 43457, 43609, 43762, 43915, 44069, 44223, 44378, 44534,\n",
       "       44690, 44846, 45003, 45161, 45319, 45477, 45636, 45795, 45954,\n",
       "       46113, 46273, 46434, 46595, 46756, 46918, 47081, 47244, 47409,\n",
       "       47575, 47741, 47908, 48075, 48242, 48410, 48578, 48746, 48915,\n",
       "       49084, 49254, 49424, 49595, 49766, 49938, 50111, 50284, 50458,\n",
       "       50633, 50808, 50983, 51158, 51334, 51510, 51686, 51862, 52040,\n",
       "       52218, 52396, 52574, 52753, 52932, 53111, 53290, 53470, 53650,\n",
       "       53830, 54011, 54193, 54377, 54561, 54745, 54929, 55113, 55298,\n",
       "       55484, 55670, 55856, 56042, 56229, 56416, 56603, 56791, 56979,\n",
       "       57167, 57355, 57543, 57731, 57919, 58109, 58299, 58489, 58679,\n",
       "       58870, 59061, 59253, 59449, 59646, 59843, 60040, 60237, 60435,\n",
       "       60634, 60833, 61032, 61231, 61430])"
      ]
     },
     "execution_count": 140,
     "metadata": {},
     "output_type": "execute_result"
    }
   ],
   "source": [
    "np.cumsum(np.sort(np.clip(arr, 100,200)))"
   ]
  },
  {
   "cell_type": "code",
   "execution_count": null,
   "id": "8f84b1ab",
   "metadata": {},
   "outputs": [],
   "source": [
    "#Q-9: You are given a array ( arr∈[0,1] ). First you have round off the elements upto 3 decimal places and compare that\n",
    "#0th percentile == minimum value of the array\n",
    "#100th percentile == maximum value of the array\n",
    "#also find the difference betwen 51th percenile and 50th percentile values"
   ]
  },
  {
   "cell_type": "code",
   "execution_count": 141,
   "id": "8ba07201",
   "metadata": {},
   "outputs": [],
   "source": [
    "arr = np.random.random(100)"
   ]
  },
  {
   "cell_type": "code",
   "execution_count": 142,
   "id": "335ef5bf",
   "metadata": {},
   "outputs": [
    {
     "data": {
      "text/plain": [
       "array([0.1879454 , 0.9923638 , 0.28458043, 0.8076621 , 0.93668689,\n",
       "       0.46494632, 0.77193586, 0.73349003, 0.52767812, 0.78711912,\n",
       "       0.01988042, 0.14580326, 0.70314929, 0.47456561, 0.32472416,\n",
       "       0.86278508, 0.48469337, 0.76098456, 0.43266592, 0.06959754,\n",
       "       0.27370744, 0.70337477, 0.67058162, 0.29853609, 0.30793819,\n",
       "       0.50707411, 0.72911297, 0.05729163, 0.78376535, 0.08379556,\n",
       "       0.52712   , 0.67133975, 0.05551574, 0.79734385, 0.5531572 ,\n",
       "       0.77148727, 0.700605  , 0.96452175, 0.3480317 , 0.03441636,\n",
       "       0.6755922 , 0.23807503, 0.51330411, 0.57601646, 0.62595249,\n",
       "       0.55566812, 0.17540318, 0.98697806, 0.83824358, 0.98156015,\n",
       "       0.95260124, 0.65198182, 0.98659528, 0.58405701, 0.44419804,\n",
       "       0.16163855, 0.37713326, 0.96466575, 0.78415835, 0.9362919 ,\n",
       "       0.31415896, 0.14407417, 0.66819943, 0.16241297, 0.10694954,\n",
       "       0.75798303, 0.52444399, 0.38161244, 0.01388464, 0.71107234,\n",
       "       0.40254857, 0.80673728, 0.7234179 , 0.82534172, 0.20735626,\n",
       "       0.97259012, 0.31799685, 0.72628482, 0.96326293, 0.72408457,\n",
       "       0.52092105, 0.29968958, 0.20533424, 0.26325324, 0.84176617,\n",
       "       0.16556548, 0.22420924, 0.71187583, 0.43811913, 0.8312327 ,\n",
       "       0.04856051, 0.48010458, 0.29483675, 0.52009898, 0.86544334,\n",
       "       0.84389919, 0.69134344, 0.11285239, 0.18268075, 0.86793743])"
      ]
     },
     "execution_count": 142,
     "metadata": {},
     "output_type": "execute_result"
    }
   ],
   "source": [
    "arr"
   ]
  },
  {
   "cell_type": "code",
   "execution_count": 148,
   "id": "b9e27256",
   "metadata": {},
   "outputs": [],
   "source": [
    "arr = np.around(arr, decimals = 3)"
   ]
  },
  {
   "cell_type": "code",
   "execution_count": 149,
   "id": "975cdbb5",
   "metadata": {},
   "outputs": [
    {
     "data": {
      "text/plain": [
       "array([0.188, 0.992, 0.285, 0.808, 0.937, 0.465, 0.772, 0.733, 0.528,\n",
       "       0.787, 0.02 , 0.146, 0.703, 0.475, 0.325, 0.863, 0.485, 0.761,\n",
       "       0.433, 0.07 , 0.274, 0.703, 0.671, 0.299, 0.308, 0.507, 0.729,\n",
       "       0.057, 0.784, 0.084, 0.527, 0.671, 0.056, 0.797, 0.553, 0.771,\n",
       "       0.701, 0.965, 0.348, 0.034, 0.676, 0.238, 0.513, 0.576, 0.626,\n",
       "       0.556, 0.175, 0.987, 0.838, 0.982, 0.953, 0.652, 0.987, 0.584,\n",
       "       0.444, 0.162, 0.377, 0.965, 0.784, 0.936, 0.314, 0.144, 0.668,\n",
       "       0.162, 0.107, 0.758, 0.524, 0.382, 0.014, 0.711, 0.403, 0.807,\n",
       "       0.723, 0.825, 0.207, 0.973, 0.318, 0.726, 0.963, 0.724, 0.521,\n",
       "       0.3  , 0.205, 0.263, 0.842, 0.166, 0.224, 0.712, 0.438, 0.831,\n",
       "       0.049, 0.48 , 0.295, 0.52 , 0.865, 0.844, 0.691, 0.113, 0.183,\n",
       "       0.868])"
      ]
     },
     "execution_count": 149,
     "metadata": {},
     "output_type": "execute_result"
    }
   ],
   "source": [
    "arr"
   ]
  },
  {
   "cell_type": "code",
   "execution_count": 152,
   "id": "756dc1cc",
   "metadata": {},
   "outputs": [
    {
     "data": {
      "text/plain": [
       "True"
      ]
     },
     "execution_count": 152,
     "metadata": {},
     "output_type": "execute_result"
    }
   ],
   "source": [
    "np.percentile(arr, 0)== arr.min()"
   ]
  },
  {
   "cell_type": "code",
   "execution_count": 153,
   "id": "9974cbac",
   "metadata": {},
   "outputs": [
    {
     "data": {
      "text/plain": [
       "True"
      ]
     },
     "execution_count": 153,
     "metadata": {},
     "output_type": "execute_result"
    }
   ],
   "source": [
    "np.percentile(arr,100)== arr.max()"
   ]
  },
  {
   "cell_type": "code",
   "execution_count": 154,
   "id": "9b5c01b7",
   "metadata": {},
   "outputs": [
    {
     "data": {
      "text/plain": [
       "0.013970000000000038"
      ]
     },
     "execution_count": 154,
     "metadata": {},
     "output_type": "execute_result"
    }
   ],
   "source": [
    "np.percentile(arr,51)-np.percentile(arr,50)"
   ]
  },
  {
   "cell_type": "code",
   "execution_count": null,
   "id": "558cdd2c",
   "metadata": {},
   "outputs": [],
   "source": []
  }
 ],
 "metadata": {
  "kernelspec": {
   "display_name": "Python 3",
   "language": "python",
   "name": "python3"
  },
  "language_info": {
   "codemirror_mode": {
    "name": "ipython",
    "version": 3
   },
   "file_extension": ".py",
   "mimetype": "text/x-python",
   "name": "python",
   "nbconvert_exporter": "python",
   "pygments_lexer": "ipython3",
   "version": "3.8.8"
  }
 },
 "nbformat": 4,
 "nbformat_minor": 5
}
